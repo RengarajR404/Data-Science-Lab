{
  "nbformat": 4,
  "nbformat_minor": 0,
  "metadata": {
    "colab": {
      "provenance": [],
      "authorship_tag": "ABX9TyOyvAgAlgBVGd1Z29b5BHQg",
      "include_colab_link": true
    },
    "kernelspec": {
      "name": "python3",
      "display_name": "Python 3"
    },
    "language_info": {
      "name": "python"
    }
  },
  "cells": [
    {
      "cell_type": "markdown",
      "metadata": {
        "id": "view-in-github",
        "colab_type": "text"
      },
      "source": [
        "<a href=\"https://colab.research.google.com/github/RengarajR404/Data-Science-Lab/blob/main/Data_Science_Lab1.ipynb\" target=\"_parent\"><img src=\"https://colab.research.google.com/assets/colab-badge.svg\" alt=\"Open In Colab\"/></a>"
      ]
    },
    {
      "cell_type": "code",
      "execution_count": null,
      "metadata": {
        "id": "EAWj7ECMsrel"
      },
      "outputs": [],
      "source": [
        "import numpy as np"
      ]
    },
    {
      "cell_type": "markdown",
      "source": [
        "Generate a tuple from the set [\"aman\", \"222\", 777, 400.4]"
      ],
      "metadata": {
        "id": "0CvRUTjXuRWB"
      }
    },
    {
      "cell_type": "code",
      "source": [
        "set1={\"aman\", \"222\", 777, 400.4}\n",
        "tuple1=tuple(set1)\n",
        "print(tuple1)"
      ],
      "metadata": {
        "colab": {
          "base_uri": "https://localhost:8080/"
        },
        "id": "s9XWDQb0ubum",
        "outputId": "27f4a070-db18-480f-8872-6bb345d793e9"
      },
      "execution_count": null,
      "outputs": [
        {
          "output_type": "stream",
          "name": "stdout",
          "text": [
            "('222', 'aman', 400.4, 777)\n"
          ]
        }
      ]
    },
    {
      "cell_type": "code",
      "source": [
        "bio_dictionary={\"Roll No\":\"CB.EN.U4CSE20154\",\"First Name\":\"Rengaraj\",\"Last Name\":\"R \",\"Date of Birth\":'01-4-2002'}\n",
        "print(bio_dictionary.items())"
      ],
      "metadata": {
        "colab": {
          "base_uri": "https://localhost:8080/"
        },
        "id": "_HdZX0VpufLo",
        "outputId": "f4c35be1-eabd-4f82-89e6-b46668ea5147"
      },
      "execution_count": null,
      "outputs": [
        {
          "output_type": "stream",
          "name": "stdout",
          "text": [
            "dict_items([('Roll No', 'CB.EN.U4CSE20154'), ('First Name', 'Rengaraj'), ('Last Name', 'R '), ('Date of Birth', '01-4-2002')])\n"
          ]
        }
      ]
    },
    {
      "cell_type": "code",
      "source": [
        "import random\n",
        "random.seed(10)\n",
        "print(np.random.randn(3,3))"
      ],
      "metadata": {
        "colab": {
          "base_uri": "https://localhost:8080/"
        },
        "id": "Wp-yxfN2usH0",
        "outputId": "b24d0954-2944-4f6a-f58d-e4fb4a010e74"
      },
      "execution_count": null,
      "outputs": [
        {
          "output_type": "stream",
          "name": "stdout",
          "text": [
            "[[-1.07767185  0.08113879  2.37068404]\n",
            " [ 0.37099116  0.27886154 -0.73200321]\n",
            " [ 1.13105206  1.58206732  1.47196475]]\n"
          ]
        }
      ]
    },
    {
      "cell_type": "code",
      "source": [
        "list=[0.0,1.0]\n",
        "print(\"Random number chosen: \",random.choice(list))\n",
        "print(\"Absolute value of (-1234):\",abs(-1234))"
      ],
      "metadata": {
        "colab": {
          "base_uri": "https://localhost:8080/"
        },
        "id": "zeNTE1dmuvGM",
        "outputId": "96ecfb61-413f-4413-85a8-30b408301b1d"
      },
      "execution_count": null,
      "outputs": [
        {
          "output_type": "stream",
          "name": "stdout",
          "text": [
            "Random number chosen:  0.0\n",
            "Absolute value of (-1234): 1234\n"
          ]
        }
      ]
    },
    {
      "cell_type": "code",
      "source": [
        "print(\"Random number: \",random.randint(20,90))"
      ],
      "metadata": {
        "colab": {
          "base_uri": "https://localhost:8080/"
        },
        "id": "ktRItUTcuznk",
        "outputId": "fc21dfc1-c550-419a-e17c-780407aa84bc"
      },
      "execution_count": null,
      "outputs": [
        {
          "output_type": "stream",
          "name": "stdout",
          "text": [
            "Random number:  74\n"
          ]
        }
      ]
    },
    {
      "cell_type": "code",
      "source": [
        "list=[11,12,13,14,15]\n",
        "print(\"Sliced list: \",list[:3])\n",
        "random.shuffle(list)\n",
        "print(\"Shuffled list: \",list)\n",
        "print(\"Random number chosen: \",random.choice(list))"
      ],
      "metadata": {
        "colab": {
          "base_uri": "https://localhost:8080/"
        },
        "id": "r_pOHCO9u2eF",
        "outputId": "6a7bd116-ee75-4227-a1f2-ced18a8bbedd"
      },
      "execution_count": null,
      "outputs": [
        {
          "output_type": "stream",
          "name": "stdout",
          "text": [
            "Sliced list:  [11, 12, 13]\n",
            "Shuffled list:  [15, 14, 11, 12, 13]\n",
            "Random number chosen:  11\n"
          ]
        }
      ]
    },
    {
      "cell_type": "code",
      "source": [
        "string=\"The King is Dead, Long Live The King\"\n",
        "text_file = open(\"question.txt\", \"w\")\n",
        "text_file.write(string)\n",
        "text_file.close()\n",
        "text_file = open(\"question.txt\", \"r\")\n",
        "print(\"Contents of text file are as follows : \")\n",
        "print(text_file.read())\n",
        "text_file.close()"
      ],
      "metadata": {
        "colab": {
          "base_uri": "https://localhost:8080/"
        },
        "id": "sfnXQo86u-fo",
        "outputId": "735cc2c4-cef2-46d7-b08a-67dcbee18484"
      },
      "execution_count": null,
      "outputs": [
        {
          "output_type": "stream",
          "name": "stdout",
          "text": [
            "Contents of text file are as follows : \n",
            "The King is Dead, Long Live The King\n"
          ]
        }
      ]
    },
    {
      "cell_type": "code",
      "source": [
        "def illustration(a,b):\n",
        "    if a==b:\n",
        "        return 1\n",
        "    elif a>b:\n",
        "        return 2\n",
        "    else:\n",
        "        return 3\n",
        "    \n",
        "illustration(5,6)"
      ],
      "metadata": {
        "colab": {
          "base_uri": "https://localhost:8080/"
        },
        "id": "FHKo_pQvvSY-",
        "outputId": "0ba096b5-cb70-44a3-f8da-dd677ab6859f"
      },
      "execution_count": null,
      "outputs": [
        {
          "output_type": "execute_result",
          "data": {
            "text/plain": [
              "3"
            ]
          },
          "metadata": {},
          "execution_count": 11
        }
      ]
    },
    {
      "cell_type": "code",
      "source": [
        "i=5\n",
        "while i>0:\n",
        "    if(i<=3):\n",
        "        break\n",
        "    if(i==2):\n",
        "        continue\n",
        "    for j in range(0,i):\n",
        "        print(\"i= \",i)\n",
        "        print(\"j= \",j)\n",
        "    i=i-1"
      ],
      "metadata": {
        "colab": {
          "base_uri": "https://localhost:8080/"
        },
        "id": "zCXSheDPvZMR",
        "outputId": "6a86dde8-9094-4ab8-f98e-be62b80269e3"
      },
      "execution_count": null,
      "outputs": [
        {
          "output_type": "stream",
          "name": "stdout",
          "text": [
            "i=  5\n",
            "j=  0\n",
            "i=  5\n",
            "j=  1\n",
            "i=  5\n",
            "j=  2\n",
            "i=  5\n",
            "j=  3\n",
            "i=  5\n",
            "j=  4\n",
            "i=  4\n",
            "j=  0\n",
            "i=  4\n",
            "j=  1\n",
            "i=  4\n",
            "j=  2\n",
            "i=  4\n",
            "j=  3\n"
          ]
        }
      ]
    },
    {
      "cell_type": "code",
      "source": [
        "string=\"The King is Dead, Long Live The King\"\n",
        "print(\"Complete text : \",string)\n",
        "print(\"First Character : \",string[0])\n",
        "print(\"Three Characters from 3rd to 5th element : \",string[3:5])\n",
        "print(\"Starting from 3rd character : \",string[3:])\n",
        "words=string.split(\" \")\n",
        "print(\"Spiltted words: \",words)"
      ],
      "metadata": {
        "colab": {
          "base_uri": "https://localhost:8080/"
        },
        "id": "jm4Cv4n-vajh",
        "outputId": "c8d7b4da-37d8-4874-8fba-494f2e00557b"
      },
      "execution_count": null,
      "outputs": [
        {
          "output_type": "stream",
          "name": "stdout",
          "text": [
            "Complete text :  The King is Dead, Long Live The King\n",
            "First Character :  T\n",
            "Three Characters from 3rd to 5th element :   K\n",
            "Starting from 3rd character :   King is Dead, Long Live The King\n",
            "Spiltted words:  ['The', 'King', 'is', 'Dead,', 'Long', 'Live', 'The', 'King']\n"
          ]
        }
      ]
    },
    {
      "cell_type": "code",
      "source": [
        "array=np.array([1,2,3,4],dtype=\"float64\")\n",
        "print(\"Sliced array : \",array[:2])"
      ],
      "metadata": {
        "colab": {
          "base_uri": "https://localhost:8080/"
        },
        "id": "izFrGbI_vd3j",
        "outputId": "e1008d23-f142-46db-8dd4-2467133cefbd"
      },
      "execution_count": null,
      "outputs": [
        {
          "output_type": "stream",
          "name": "stdout",
          "text": [
            "Sliced array :  [1. 2.]\n"
          ]
        }
      ]
    },
    {
      "cell_type": "code",
      "source": [
        "two_d_array=([[1,2,3],[4,5,6]])\n",
        "print(\"Two-Dimensional array : \",two_d_array)"
      ],
      "metadata": {
        "colab": {
          "base_uri": "https://localhost:8080/"
        },
        "id": "ie7_l8g2vi2c",
        "outputId": "8cabad84-909a-44c2-f19d-041dff3ed506"
      },
      "execution_count": null,
      "outputs": [
        {
          "output_type": "stream",
          "name": "stdout",
          "text": [
            "Two-Dimensional array :  [[1, 2, 3], [4, 5, 6]]\n"
          ]
        }
      ]
    },
    {
      "cell_type": "code",
      "source": [
        "two_d_array=np.array([[1,2,3],[4,5,6]],dtype=\"float64\")\n",
        "print(\"2nd-row : \",two_d_array[1:2])\n",
        "print(\"Next requirement : \",two_d_array[:,1:2].T)\n",
        "print(\"Shape of array : \",two_d_array.shape)"
      ],
      "metadata": {
        "colab": {
          "base_uri": "https://localhost:8080/"
        },
        "id": "We32xfbcvuBN",
        "outputId": "76cb4028-ad4e-4107-e52f-dc309a66b703"
      },
      "execution_count": null,
      "outputs": [
        {
          "output_type": "stream",
          "name": "stdout",
          "text": [
            "2nd-row :  [[4. 5. 6.]]\n",
            "Next requirement :  [[2. 5.]]\n",
            "Shape of array :  (2, 3)\n"
          ]
        }
      ]
    },
    {
      "cell_type": "code",
      "source": [
        "new_array=np.array([1,2,3,4,5,6,7,8,9,10])\n",
        "new_array=new_array.reshape(2,5)\n",
        "print(\"Reshaped Array : \",new_array)\n",
        "print(\"Transpose of Reshaped Array : \",new_array.T)"
      ],
      "metadata": {
        "colab": {
          "base_uri": "https://localhost:8080/"
        },
        "id": "TI04TRqKwC1t",
        "outputId": "e79930a2-8e92-4ffa-fcc1-b5d416f7a00b"
      },
      "execution_count": null,
      "outputs": [
        {
          "output_type": "stream",
          "name": "stdout",
          "text": [
            "Reshaped Array :  [[ 1  2  3  4  5]\n",
            " [ 6  7  8  9 10]]\n",
            "Transpose of Reshaped Array :  [[ 1  6]\n",
            " [ 2  7]\n",
            " [ 3  8]\n",
            " [ 4  9]\n",
            " [ 5 10]]\n"
          ]
        }
      ]
    },
    {
      "cell_type": "code",
      "source": [
        "list=[1,2,3]\n",
        "array=np.array(list)\n",
        "print(\"Array from list : \",array)"
      ],
      "metadata": {
        "colab": {
          "base_uri": "https://localhost:8080/"
        },
        "id": "fPzS6lHowGG5",
        "outputId": "88a913e9-03ac-4aaa-f370-b4859d2ae744"
      },
      "execution_count": null,
      "outputs": [
        {
          "output_type": "stream",
          "name": "stdout",
          "text": [
            "Array from list :  [1 2 3]\n"
          ]
        }
      ]
    },
    {
      "cell_type": "code",
      "source": [
        "array=np.array([1,2,3])\n",
        "list=[9,9,9]\n",
        "print(\"Before filling : \",array)\n",
        "array.fill(list[0])\n",
        "print(\"After filling : \",array)"
      ],
      "metadata": {
        "colab": {
          "base_uri": "https://localhost:8080/"
        },
        "id": "1qpHmDwkwI6t",
        "outputId": "ccfb5e3e-30a0-411d-9e69-acf4928b7207"
      },
      "execution_count": null,
      "outputs": [
        {
          "output_type": "stream",
          "name": "stdout",
          "text": [
            "Before filling :  [1 2 3]\n",
            "After filling :  [9 9 9]\n"
          ]
        }
      ]
    },
    {
      "cell_type": "code",
      "source": [
        "array=np.array([2,4,5])\n",
        "print(\"Sum of elements = \",array.sum())"
      ],
      "metadata": {
        "colab": {
          "base_uri": "https://localhost:8080/"
        },
        "id": "mLj5kO-MwMvC",
        "outputId": "dd114969-d94c-4463-8fd8-5a8d0ef6481f"
      },
      "execution_count": null,
      "outputs": [
        {
          "output_type": "stream",
          "name": "stdout",
          "text": [
            "Sum of elements =  11\n"
          ]
        }
      ]
    },
    {
      "cell_type": "code",
      "source": [
        "array=np.array([77,74,75])\n",
        "print(\"Product of elements = \",array.prod())"
      ],
      "metadata": {
        "colab": {
          "base_uri": "https://localhost:8080/"
        },
        "id": "SzyKbXamwYfZ",
        "outputId": "e32a9779-18c9-431a-ff3b-fc3382095000"
      },
      "execution_count": null,
      "outputs": [
        {
          "output_type": "stream",
          "name": "stdout",
          "text": [
            "Product of elements =  427350\n"
          ]
        }
      ]
    },
    {
      "cell_type": "code",
      "source": [
        "array=np.array([2,1,9,1,2,22,1,1,4,55,6,2,56])\n",
        "print(\"Mean : \",array.mean())\n",
        "print(\"Min : \",array.min())\n",
        "print(\"Max : \",array.max())\n",
        "print(\"Median : \",np.median(array))\n",
        "print(\"Argmax : \",array.argmax())\n",
        "print(\"Argmin : \",array.argmin())\n",
        "print(\"Standard Deviation : \",array.std())\n",
        "print(\"Variance : \",array.var())"
      ],
      "metadata": {
        "colab": {
          "base_uri": "https://localhost:8080/"
        },
        "id": "G4bOpxNLwb6r",
        "outputId": "92bd0d1e-8515-47c6-c196-bfdd7475e481"
      },
      "execution_count": null,
      "outputs": [
        {
          "output_type": "stream",
          "name": "stdout",
          "text": [
            "Mean :  12.461538461538462\n",
            "Min :  1\n",
            "Max :  56\n",
            "Median :  2.0\n",
            "Argmax :  12\n",
            "Argmin :  1\n",
            "Standard Deviation :  19.165736192147232\n",
            "Variance :  367.32544378698225\n"
          ]
        }
      ]
    },
    {
      "cell_type": "code",
      "source": [
        "array=np.array([1, 1, 4, 5, 5, 5, 7])\n",
        "uarray=np.unique(array)\n",
        "uarray.sort()\n",
        "print(\"Sorted array with unique elements : \",uarray)"
      ],
      "metadata": {
        "colab": {
          "base_uri": "https://localhost:8080/"
        },
        "id": "eiU2QYR9wi6k",
        "outputId": "fe0224c4-43b2-4f3e-851c-87028a987b33"
      },
      "execution_count": null,
      "outputs": [
        {
          "output_type": "stream",
          "name": "stdout",
          "text": [
            "Sorted array with unique elements :  [1 4 5 7]\n"
          ]
        }
      ]
    },
    {
      "cell_type": "code",
      "source": [
        "array1=np.array([1,2,3])\n",
        "array2=np.array([0,1,1])\n",
        "print(\"Dot product : \",np.dot(array1,array2))"
      ],
      "metadata": {
        "colab": {
          "base_uri": "https://localhost:8080/"
        },
        "id": "1mp8C3wfwmcG",
        "outputId": "c5ccd642-ce04-4239-df88-0d68fb948efa"
      },
      "execution_count": null,
      "outputs": [
        {
          "output_type": "stream",
          "name": "stdout",
          "text": [
            "Dot product :  5\n"
          ]
        }
      ]
    },
    {
      "cell_type": "code",
      "source": [
        "array=np.array([[2,-12],[1,-5]])\n",
        "eigen_values,eigen_vector=np.linalg.eig(array)\n",
        "print(\"Eigen Values : \",eigen_values)\n",
        "print(\"Eigen Vector : \",eigen_vector)"
      ],
      "metadata": {
        "colab": {
          "base_uri": "https://localhost:8080/"
        },
        "id": "K8hVRviewpst",
        "outputId": "bbdf38d4-515b-4c96-bf21-a3632b8e558b"
      },
      "execution_count": null,
      "outputs": [
        {
          "output_type": "stream",
          "name": "stdout",
          "text": [
            "Eigen Values :  [-1. -2.]\n",
            "Eigen Vector :  [[0.9701425  0.9486833 ]\n",
            " [0.24253563 0.31622777]]\n"
          ]
        }
      ]
    },
    {
      "cell_type": "code",
      "source": [
        "array=np.array([[11, 22, 11, 31], [25, 33, 31, 28]],dtype=\"float64\")\n",
        "print(\"Correlation Coefficients : \",np.corrcoef(array))"
      ],
      "metadata": {
        "colab": {
          "base_uri": "https://localhost:8080/"
        },
        "id": "8nNeCAOIwtrd",
        "outputId": "2676911f-d507-497b-ef6c-7bf995103082"
      },
      "execution_count": null,
      "outputs": [
        {
          "output_type": "stream",
          "name": "stdout",
          "text": [
            "Correlation Coefficients :  [[1.         0.15997968]\n",
            " [0.15997968 1.        ]]\n"
          ]
        }
      ]
    }
  ]
}